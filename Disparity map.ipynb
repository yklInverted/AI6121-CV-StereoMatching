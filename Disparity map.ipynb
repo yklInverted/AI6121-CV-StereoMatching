{
 "cells": [
  {
   "cell_type": "code",
   "execution_count": 1,
   "id": "proprietary-security",
   "metadata": {},
   "outputs": [],
   "source": [
    "import cv2\n",
    "from PIL import Image\n",
    "import numpy as np\n",
    "import matplotlib.pyplot as plt\n",
    "import time"
   ]
  },
  {
   "cell_type": "code",
   "execution_count": 2,
   "id": "portuguese-legislation",
   "metadata": {},
   "outputs": [],
   "source": [
    "def read_img_pair(left_img, right_img):\n",
    "    imgL = cv2.imread(left_img, 0)\n",
    "    imgL = imgL.astype(int)\n",
    "    imgR = cv2.imread(right_img, 0)\n",
    "    imgR = imgR.astype(int)\n",
    "    return imgL, imgR"
   ]
  },
  {
   "cell_type": "code",
   "execution_count": 3,
   "id": "failing-specification",
   "metadata": {},
   "outputs": [],
   "source": [
    "def SAD(blockL, blockR):\n",
    "    if blockL.shape != blockR.shape:\n",
    "        return -1\n",
    "    return np.sum(abs(blockL - blockR))"
   ]
  },
  {
   "cell_type": "code",
   "execution_count": 4,
   "id": "statutory-distance",
   "metadata": {},
   "outputs": [],
   "source": [
    "def SSD(blockL, blockR):\n",
    "    if blockL.shape != blockR.shape:\n",
    "        return -1\n",
    "    return np.sum(np.square(blockL - blockR))"
   ]
  },
  {
   "cell_type": "code",
   "execution_count": 5,
   "id": "broke-initial",
   "metadata": {},
   "outputs": [],
   "source": [
    "def find_best_match(h, w, blockL, imgR):\n",
    "    height, width = imgR.shape\n",
    "    # Get search range for the right image\n",
    "    w_min = max(0, w - SW)\n",
    "    w_max = min(width, w + SW)\n",
    "    min_sad = None\n",
    "    min_index = None\n",
    "    for wi in range(w_min+BL, w_max-BL):\n",
    "        blockR = imgR[h-BL: h+BL, wi-BL: wi+BL]\n",
    "        sad = SSD(blockL, blockR)\n",
    "        if min_sad == None:\n",
    "            min_sad = sad\n",
    "            min_index = (h, wi)\n",
    "        else:\n",
    "            if sad < min_sad:\n",
    "                min_sad = sad\n",
    "                min_index = (h, wi)\n",
    "    return min_index"
   ]
  },
  {
   "cell_type": "code",
   "execution_count": 6,
   "id": "dramatic-saint",
   "metadata": {},
   "outputs": [],
   "source": [
    "def disparity_map(imgL, imgR):\n",
    "    if imgL.shape != imgR.shape:\n",
    "        raise \"Image pairs mismatch!\"\n",
    "    height, width = imgL.shape\n",
    "    dm = np.zeros((height, width))\n",
    "    \n",
    "    # Loop through each pixel\n",
    "    tic = time.time()\n",
    "    for h in range(BL, height-BL):\n",
    "        for w in range(BL, width-BL):\n",
    "            blockL = imgL[h-BL:h + BL, w-BL:w + BL]\n",
    "            matched = find_best_match(h, w, blockL, imgR)\n",
    "            dm[h, w] = abs(matched[1] - w)\n",
    "    toc = time.time()\n",
    "    totaltime.append(toc-tic)\n",
    "    #print(dm)\n",
    "    plt.imshow(dm, cmap='hot', interpolation='nearest')\n",
    "    plt.axis('off') \n",
    "    plt.show()"
   ]
  },
  {
   "cell_type": "code",
   "execution_count": 7,
   "id": "wanted-turkey",
   "metadata": {},
   "outputs": [],
   "source": [
    "BLOCK_LENGTHs = [11, 23]\n",
    "SEARCH_WIDTHs = [41, 61, 81]\n",
    "totaltime = []\n",
    "\n",
    "if __name__ == '__main__':\n",
    "    images = [[\"images/corridorl.jpg\", \"images/corridorr.jpg\"], ['images/triclopsi2l.jpg','images/triclopsi2r.jpg']]\n",
    "    for img_pair in images:\n",
    "        imgL, imgR = read_img_pair(img_pair[0], img_pair[1])\n",
    "        totaltime = []\n",
    "        for BLOCK_LENGTH in BLOCK_LENGTHs:\n",
    "            for SEARCH_WIDTH in SEARCH_WIDTHs:\n",
    "                BL = round((BLOCK_LENGTH - 1)/2)\n",
    "                SW = round((SEARCH_WIDTH - 1)/2)\n",
    "                disparity_map(imgL, imgR)\n",
    "        print(np.average(totaltime))"
   ]
  },
  {
   "cell_type": "code",
   "execution_count": null,
   "id": "experienced-yacht",
   "metadata": {},
   "outputs": [],
   "source": []
  }
 ],
 "metadata": {
  "kernelspec": {
   "display_name": "Python 3",
   "language": "python",
   "name": "python3"
  },
  "language_info": {
   "codemirror_mode": {
    "name": "ipython",
    "version": 3
   },
   "file_extension": ".py",
   "mimetype": "text/x-python",
   "name": "python",
   "nbconvert_exporter": "python",
   "pygments_lexer": "ipython3",
   "version": "3.8.5"
  }
 },
 "nbformat": 4,
 "nbformat_minor": 5
}
